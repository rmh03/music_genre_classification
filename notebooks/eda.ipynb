{
 "cells": [
  {
   "cell_type": "code",
   "execution_count": null,
   "metadata": {},
   "outputs": [],
   "source": [
    "import pandas as pd\n",
    "import matplotlib.pyplot as plt\n",
    "import seaborn as sns\n",
    "from src.data_processing.load_data import load_metadata\n",
    "\n",
    "# Load data\n",
    "df = load_metadata(\"../data/raw/features_3_sec.csv\")\n",
    "\n",
    "# Basic info\n",
    "print(df.info())\n",
    "print(df.describe())\n",
    "\n",
    "# Label distribution\n",
    "plt.figure(figsize=(10, 6))\n",
    "sns.countplot(data=df, x='label')\n",
    "plt.title(\"Genre Distribution\")\n",
    "plt.show()\n",
    "\n",
    "# Feature correlations\n",
    "plt.figure(figsize=(12, 8))\n",
    "sns.heatmap(df.corr(), cmap='coolwarm')\n",
    "plt.title(\"Feature Correlation Matrix\")\n",
    "plt.show()"
   ]
  }
 ],
 "metadata": {
  "language_info": {
   "name": "python"
  }
 },
 "nbformat": 4,
 "nbformat_minor": 2
}
